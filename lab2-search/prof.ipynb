{
 "cells": [
  {
   "cell_type": "markdown",
   "metadata": {},
   "source": [
    "There are a set of four professors, P1, P2, P3, and P4 and a set of four classes C1, C2, C3, and C4\n",
    "\n",
    "Professors are only qualified to teach certain classes:\n",
    "<pre>\n",
    "P1 -- C4\n",
    "P2 -- C1, C2\n",
    "P3 -- C1, C3\n",
    "P4 -- C1, C2, C3, C4\n",
    "</pre>\n",
    "\n",
    "Make an assignment of one class to every professor such that all classes are being taught, every professor teaches at most one class, and every professor is teaching a class they are qualified to teach"
   ]
  },
  {
   "cell_type": "markdown",
   "metadata": {},
   "source": [
    "*Sample Problem Definition and Output*\n",
    "```\n",
    "from searchFramework import aStarSearch\n",
    "from searchClientFramework import DFSEvaluator\n",
    "\n",
    "problem1 = ProfProblem(['P1', 'P2', 'P3', 'P4'],\n",
    "                       ['C1', 'C2', 'C3', 'C4'],\n",
    "                       {'P1': ['C4'],\n",
    "                        'P2': ['C1', 'C2'],\n",
    "                        'P3': ['C1', 'C3'],\n",
    "                        'P4': ['C1', 'C2', 'C3', 'C4']})\n",
    "\n",
    "print(aStarSearch(problem1, DFSEvaluator()))\n",
    "\n",
    "([('P1', 'C4'), ('P4', 'C1'), ('P3', 'C3'), ('P2', 'C2')], (0.0, 5, 0, 3))\n",
    "```"
   ]
  }
 ],
 "metadata": {
  "kernelspec": {
   "display_name": "Python 3",
   "language": "python",
   "name": "python3"
  },
  "language_info": {
   "codemirror_mode": {
    "name": "ipython",
    "version": 3
   },
   "file_extension": ".py",
   "mimetype": "text/x-python",
   "name": "python",
   "nbconvert_exporter": "python",
   "pygments_lexer": "ipython3",
   "version": "3.7.0"
  }
 },
 "nbformat": 4,
 "nbformat_minor": 2
}
