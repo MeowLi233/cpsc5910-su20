{
 "cells": [
  {
   "cell_type": "markdown",
   "metadata": {},
   "source": [
    "##### Missionaries and Cannibals\n",
    "\n",
    "* There are N missionaries and M cannibals on the left bank of a river, and N => M\n",
    "* There is a boat on the left bank of the river\n",
    "* The goal is to move all missionaries and all cannibals to the right bank\n",
    "* The boat can only move if there is at least one person in it\n",
    "* The boat can hold at most two people\n",
    "* The number of missionaries must never be less than the number of cannibals on either the left or right bank\n",
    "\n",
    "* The problem parameters are:  N (number of missionaries) and M (number of cannibals).\n",
    "* The state description\n",
    "  * number of missionaries on left bank, right bank, on the boat\n",
    "  * position of the boat (left or right bank)\n",
    "\n",
    "Available actions are:\n",
    "* ec, em -- embark a cannibal or embark a missionary (move it from the bank to the boat)\n",
    "* dc, dm -- disembark a cannibal or disembark a missionary (move it from the boat to the bank)\n",
    "* mb -- move boat from one bank to the other\n",
    "\n",
    "Note that not all actions can be executed in all states\n"
   ]
  },
  {
   "cell_type": "markdown",
   "metadata": {},
   "source": [
    "#### Assignment\n",
    "\n",
    "Write a function\n",
    "```\n",
    "mAndC(num_missionaries, num_cannibals, evaluator)\n",
    "```\n",
    "It uses the search library to find a sequence of actions that result in all personnel on the left bank.\n",
    "You may choose to terminate the search early, but you must make a reasonable choice for the limit parameter\n",
    "\n",
    "\n",
    "Your function should return four pieces of information about the problem\n",
    "1.  The length of the solution (or None if there is none)\n",
    "2.  The time expended in getting the solution (or failing to solve)\n",
    "3.  The number of nodes expaned\n",
    "4.  The time per node (expressed as #second * 10^5)\n",
    "\n",
    "\n",
    "For example:\n",
    "```\n",
    "mAndC(100, 100, BFSEvaluator())\n",
    "\n",
    "(797, 0.078125, 2781, 3.3710895361380797)\n",
    "```\n",
    "\n",
    "Use this function to analyze the behavior of a breadth-first search vs depth-first search and answer the following questions\n",
    "1.  In terms of number of nodes expanded, which tends to work better\n",
    "2.  Does DFS always return the shortest plan?\n",
    "3.  Which strategy has bigger time-per-node values.   Can you discover why?\n",
    "\n",
    "Your analysis should take into account both the absolute number of missionaries and cannibals, but also what happens when the ratio of missionaries to cannibals changes.  Do the same results and conclusions hold?"
   ]
  },
  {
   "cell_type": "code",
   "execution_count": 1,
   "metadata": {},
   "outputs": [],
   "source": [
    "####  Your code for Missionaries and Cannibals problem in this cell.  \n",
    "####  Include all the class definitions and the function definition for mAndC in this cell\n"
   ]
  },
  {
   "cell_type": "markdown",
   "metadata": {},
   "source": [
    "<p style=\"color:red\">\n",
    "Your analysis in this cell and cells below if you need them.  You can use any combination of text, graphs, tables you want\n",
    "</p>"
   ]
  },
  {
   "cell_type": "code",
   "execution_count": null,
   "metadata": {},
   "outputs": [],
   "source": []
  }
 ],
 "metadata": {
  "kernelspec": {
   "display_name": "Python 3",
   "language": "python",
   "name": "python3"
  },
  "language_info": {
   "codemirror_mode": {
    "name": "ipython",
    "version": 3
   },
   "file_extension": ".py",
   "mimetype": "text/x-python",
   "name": "python",
   "nbconvert_exporter": "python",
   "pygments_lexer": "ipython3",
   "version": "3.7.0"
  }
 },
 "nbformat": 4,
 "nbformat_minor": 2
}
