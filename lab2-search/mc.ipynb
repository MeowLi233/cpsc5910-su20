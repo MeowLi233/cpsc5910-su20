{
 "cells": [
  {
   "cell_type": "markdown",
   "metadata": {},
   "source": [
    "##### Missionaries and Cannibals\n",
    "\n",
    "* There are N missionaries and M cannibals on the left bank of a river, and N => M\n",
    "* There is a boat on the left bank of the river\n",
    "* The goal is to move all missionaries and all cannibals to the right bank\n",
    "* The boat can only move if there is at least one person in it\n",
    "* The boat can hold at most two people\n",
    "* The number of missionaries must never be less than the number of cannibals on either the left or right bank\n"
   ]
  },
  {
   "cell_type": "code",
   "execution_count": 12,
   "metadata": {},
   "outputs": [
    {
     "name": "stdout",
     "output_type": "stream",
     "text": [
      "['ec', 'em', 'mb', 'dm', 'mb', 'ec', 'mb', 'dc', 'mb', 'em', 'mb', 'dm', 'mb', 'ec', 'mb', 'dc', 'mb', 'em', 'mb', 'dm', 'mb', 'ec', 'mb', 'dc', 'mb', 'em', 'mb', 'dm', 'mb', 'ec', 'mb', 'dc', 'mb', 'em', 'mb', 'dm', 'mb', 'ec', 'mb', 'dc', 'mb', 'em', 'mb', 'dm', 'mb', 'ec', 'mb', 'dc', 'mb', 'em', 'mb', 'dm', 'mb', 'ec', 'mb', 'dc', 'mb', 'em', 'mb', 'dm', 'mb', 'ec', 'mb', 'dc', 'mb', 'em', 'mb', 'dm', 'mb', 'ec', 'mb', 'dc', 'mb', 'em', 'mb', 'dm', 'dc']\n"
     ]
    }
   ],
   "source": [
    "print(aStarSearch(MCProblem(10,10), bfsEvaluator())[0])"
   ]
  },
  {
   "cell_type": "code",
   "execution_count": 10,
   "metadata": {},
   "outputs": [
    {
     "name": "stdout",
     "output_type": "stream",
     "text": [
      "(0.9375, 27981, 13989, 6)\n",
      "(1.109375, 27975, 13985, 9)\n"
     ]
    }
   ],
   "source": [
    "from searchFramework import aStarSearch\n",
    "s = aStarSearch(MCProblem(1000,1000), bfsEvaluator())\n",
    "print(s[1])\n",
    "s = aStarSearch(MCProblem(1000,1000), heuristicEvaluator())\n",
    "print(s[1])"
   ]
  },
  {
   "cell_type": "code",
   "execution_count": 13,
   "metadata": {},
   "outputs": [
    {
     "name": "stdout",
     "output_type": "stream",
     "text": [
      "(['ec', 'em', 'mb', 'dm', 'mb', 'ec', 'mb', 'dc', 'mb', 'em', 'mb', 'dm', 'mb', 'ec', 'mb', 'dc', 'mb', 'em', 'mb', 'dm', 'dc'], (0.015625, 65, 31, 6))\n"
     ]
    }
   ],
   "source": [
    "print(aStarSearch(MCProblem(3,3), heuristicEvaluator()))"
   ]
  },
  {
   "cell_type": "code",
   "execution_count": 14,
   "metadata": {},
   "outputs": [
    {
     "name": "stdout",
     "output_type": "stream",
     "text": [
      "(100.265625, 279981, 139989, 6)\n"
     ]
    }
   ],
   "source": [
    "soln, stats = aStarSearch(MCProblem(10000, 10000), bfsEvaluator())\n",
    "print(stats)"
   ]
  },
  {
   "cell_type": "markdown",
   "metadata": {},
   "source": [
    "<pre>\n",
    "print(aStarSearch(MCProblem(10,10), bfsEvaluator())[0])\n",
    "\n",
    "['ec', 'em', 'mb', 'dm', 'mb', 'ec', 'mb', 'dc', 'mb', 'em', 'mb', 'dm', 'mb', 'ec', 'mb', 'dc', 'mb', 'em', 'mb', 'dm', 'mb', 'ec', 'mb', 'dc', 'mb', 'em', 'mb', 'dm', 'mb', 'ec', 'mb', 'dc', 'mb', 'em', 'mb', 'dm', 'mb', 'ec', 'mb', 'dc', 'mb', 'em', 'mb', 'dm', 'mb', 'ec', 'mb', 'dc', 'mb', 'em', 'mb', 'dm', 'mb', 'ec', 'mb', 'dc', 'mb', 'em', 'mb', 'dm', 'mb', 'ec', 'mb', 'dc', 'mb', 'em', 'mb', 'dm', 'mb', 'ec', 'mb', 'dc', 'mb', 'em', 'mb', 'dm', 'dc']\n",
    "\n",
    "from searchFramework import aStarSearch\n",
    "s = aStarSearch(MCProblem(1000,1000), bfsEvaluator())\n",
    "print(s[1])\n",
    "s = aStarSearch(MCProblem(1000,1000), heuristicEvaluator())\n",
    "print(s[1])\n",
    "\n",
    "(0.9375, 27981, 13989, 6)\n",
    "(1.109375, 27975, 13985, 9)\n",
    "\n"
   ]
  }
 ],
 "metadata": {
  "kernelspec": {
   "display_name": "Python 3",
   "language": "python",
   "name": "python3"
  },
  "language_info": {
   "codemirror_mode": {
    "name": "ipython",
    "version": 3
   },
   "file_extension": ".py",
   "mimetype": "text/x-python",
   "name": "python",
   "nbconvert_exporter": "python",
   "pygments_lexer": "ipython3",
   "version": "3.7.0"
  }
 },
 "nbformat": 4,
 "nbformat_minor": 2
}
