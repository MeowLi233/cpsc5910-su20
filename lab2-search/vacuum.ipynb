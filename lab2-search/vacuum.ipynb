{
 "cells": [
  {
   "cell_type": "markdown",
   "metadata": {},
   "source": [
    "#### Vacuum Agent Return Path Planning\n",
    "\n",
    "Help your vacuum agent go home to charge as efficiently as possible!\n",
    "\n",
    "While the agent is in explore mode, it records every position it visits, then when it needs to go home, it computes the shortest path from its current position to home position [1,1] that goes only through positions it visited while exploring.  You are going to write a function\n",
    "<pre>\n",
    "agent_path_home(list_of_positions, start_position)  => path\n",
    "</pre>\n",
    "where the return path is a list of *headings* (\"North\", \"South\", \"East\", \"West\").   If the agent starts at the start_position -- the position where it stops exporing and starts going home -- and repeatedly moves in the headings specified by the path, it will end up at square [1,1].  The path returned must be the shortest possible path from the start position to [1,1].\n",
    "\n",
    "You must use the search framework library for your solution.\n",
    "\n",
    "Here is an example for a 6x6 grid\n",
    "<img src=\"grid.GIF\" alt=\"grid\" style=\"width:200px;\"/>\n",
    "\n",
    "The full exploration path is 15 steps\n",
    "```\n",
    "(1,1), (1,2), (2,2), (2,1), \n",
    "(1,1), (2,1), (3,1), (3,2), \n",
    "(3,3), (3,4), (3,3), (4,3), \n",
    "(5,3), (5,2), (5,1), (6,1)\n",
    "```\n",
    "the shortest path from (6,1) back to (1,1) has 9 steps, and one such path is\n",
    "```\n",
    "(6,1), (5,1), (5,2), (5,3),\n",
    "(4,3), (3,3), (3,2), (2,2), \n",
    "(1,2), (1,1)\n",
    "```\n",
    "The path from (6,1) back to (1,1) would be represented as\n",
    "```\n",
    "[North, East, East, North, North, West, North, North, West]\n",
    "```\n",
    "so calling your code would look like this:\n",
    "<pre>\n",
    "positions = [(1,1), (1,2), (2,2), (2,1), (1,1), (2,1), (3,1), \n",
    "             (3,2), (3,3), (3,4), (3,3), (4,3), (5,3), (5,2), (5,1), (6,1)]\n",
    "starting_position = (6,1)\n",
    "path = agent_path_home(positions, starting_position)\n",
    "print(path)\n",
    "\n",
    "['North', 'East', 'East', 'North', 'North', 'West', 'North', 'North', 'West']\n",
    "</pre>"
   ]
  },
  {
   "cell_type": "markdown",
   "metadata": {},
   "source": [
    "### Helper Functions\n",
    "It's always good to experiment and test, so here are some functions to help you out."
   ]
  },
  {
   "cell_type": "code",
   "execution_count": 1,
   "metadata": {},
   "outputs": [],
   "source": [
    "#  This function generates a randomly generated position list that \n",
    "#  can be used as input to agent_path_home.  Inputs are size (for example 10 for a 10x10 grid), and a\n",
    "#  path length -- this is the number of steps the agent will explore, not the length\n",
    "#  of the shortest path home\n",
    "\n",
    "from random import randint\n",
    "\n",
    "def problem_generator(size, walk_length):\n",
    "    \n",
    "    def inbounds(position, size):\n",
    "        return position[0] >= 1 and position[1] <= size and position[1] > 1 and position[1] <= size\n",
    "    \n",
    "    positions = [(1,1)]\n",
    "    for _ in range(walk_length):\n",
    "        newposition = None\n",
    "        while True:\n",
    "            r,c = positions[-1]\n",
    "            x = randint(0,3)\n",
    "            newposition = [(r+1, c), (r-1, c), (r, c-1), (r, c+1)][x]\n",
    "            if inbounds(newposition, size):\n",
    "                break\n",
    "        positions.append(newposition)\n",
    "    return (positions, positions[-1])\n",
    "            "
   ]
  },
  {
   "cell_type": "markdown",
   "metadata": {},
   "source": [
    "```\n",
    "Here is an example with a big environment and lots of wandering.  Shortest path much better!\n",
    "\n",
    "SIZE = 200\n",
    "PATH_LENGTH = 400\n",
    "\n",
    "path, start_position = problem_generator(SIZE, PATH_LENGTH)\n",
    "shortest = agent_path_home(path,start_position)\n",
    "\n",
    "print(f\"Full path is length {PATH_LENGTH}, start position is {start_position}, shortest path is length {len(shortest)}\")\n",
    "\n",
    "Full path is length 400, start position is (4, 6), shortest path is length 8\n",
    "```"
   ]
  },
  {
   "cell_type": "markdown",
   "metadata": {},
   "source": [
    "Here's another helper function and a hint.\n",
    "\n",
    "When you do your state-space search, chances are your state will just be \n",
    "the position the agent is in.  For example in the example above, your start\n",
    "state will be (4,6) and the successor states will be all positions on the path\n",
    "that are adjacent to (4,6) -- let's say those are (3,6) and (4,5).\n",
    "But the \"actions\" in your state-space search are headings -- North, South, East, West\n",
    "So you need a function that gives you an \"action\" aka \"heading\" given two adjacent positions.\n",
    "\n",
    "```\n",
    "print(heading_for_adjacency((4,6), (3,6)))\n",
    "print(heading_for_adjacency((4,6), (4,5))\n",
    "   North\n",
    "   East\n",
    "```\n"
   ]
  },
  {
   "cell_type": "code",
   "execution_count": 2,
   "metadata": {},
   "outputs": [],
   "source": [
    "def heading_for_adjacency(p1, p2):\n",
    "    if (p2[0] == p1[0]-1):\n",
    "        return \"North\"\n",
    "    elif (p2[0] == p1[0]+1):\n",
    "        return \"South\"\n",
    "    elif (p2[1] == p1[1]+1):\n",
    "        return \"East\"\n",
    "    elif (p2[1] == p1[1]-1):\n",
    "        return \"West\"\n",
    "    else: \n",
    "        raise(Exception(f\"Not adjacent {p1} {p2}\"))"
   ]
  },
  {
   "cell_type": "code",
   "execution_count": 3,
   "metadata": {},
   "outputs": [],
   "source": [
    "##  And here is yet another helper function for you to help you debug\n",
    "##  your search code.  It takes problem input (free positions and start position) as\n",
    "##  input, and a solution as returned by your agent_path_home function, and verifies\n",
    "##  that the solution is correct.\n",
    "\n",
    "def check_solution(clear, initial, path):   \n",
    "    def pos_in_heading(p,h):\n",
    "        if (h == \"North\"):\n",
    "            return (p[0]-1, p[1])\n",
    "        elif (h == \"South\"):\n",
    "            return (p[0]+1, p[1])\n",
    "        elif (h == \"West\"):\n",
    "            return (p[0], p[1]-1)\n",
    "        elif (h == \"East\"):\n",
    "            return (p[0], p[1]+1)\n",
    "        else:\n",
    "            raise Exception(f\"Not a direction {h}\")\n",
    "    pos = initial\n",
    "    for heading in path:\n",
    "        np = pos_in_heading(pos, heading)\n",
    "        if (not np in clear):\n",
    "            return False\n",
    "        pos = np\n",
    "    return pos == (1,1)\n"
   ]
  },
  {
   "cell_type": "markdown",
   "metadata": {},
   "source": [
    "For example, \n",
    "```\n",
    "p, s = problem_generator(20, 20)\n",
    "print(check_solution(p, s, agent_path_home(p, s)))\n",
    "\n",
    "True\n",
    "```"
   ]
  },
  {
   "cell_type": "code",
   "execution_count": 4,
   "metadata": {},
   "outputs": [],
   "source": [
    "## Your code for the class definitions and function agent_path_home goes in this cell.   \n",
    "## It solves the path problem using breadth-first search.  \n",
    "## Line 6 is a hint!  You don't have to use it as is\n",
    "\n",
    "def agent_path_home(path, start_position):\n",
    "    return aStarSearch(VacuumProblem(path, start_position), BFSEvaluator())[0]"
   ]
  },
  {
   "cell_type": "markdown",
   "metadata": {},
   "source": [
    "####  Heuristic and Empirical Evaluation\n",
    "\n",
    "In this section you will develop a heuristic evaluation function -- h*(s) and compare path search using your heuristic with breadth-first search.  You will compare the two using the metric \"number of nodes explored\" -- the second element returned in the stats record returned by A Star Search.\n",
    "\n",
    "Notice that since we are interested only in the stats, you will be calling A Star Search function directly, not\n",
    "the agent_path_home function you developed in the previous section"
   ]
  },
  {
   "cell_type": "code",
   "execution_count": 10,
   "metadata": {},
   "outputs": [],
   "source": [
    "## Fill this in.  Skeleton only, this does BFS\n",
    "\n",
    "from searchClientInterface import Evaluator\n",
    "def heuristicEstimator(state):\n",
    "    return 0\n",
    "def heuristicCoster(actions):\n",
    "    return len(actions)\n",
    "def heuristicEvaluator():\n",
    "    return Evaluator(heuristicCoster, heuristicEstimator)"
   ]
  },
  {
   "cell_type": "markdown",
   "metadata": {},
   "source": [
    "```\n",
    "# Here's an example that generates a random problem, calls search\n",
    "# using BFS and the heuristic, verifies that the two searches return\n",
    "# paths of the same lengths, then prints out the stat records for both\n",
    "\n",
    "from searchFramework import aStarSearch\n",
    "clear, initial = problem_generator(1000, 300)\n",
    "problem = VacuumProblem(clear, initial)\n",
    "solnb, statsb = aStarSearch(problem, Evaluator(lambda a: len(a), lambda s: 0))\n",
    "solnh, statsh = aStarSearch(problem, heuristicEvaluator())\n",
    "\n",
    "print(len(solnb))\n",
    "print(len(solnh))\n",
    "print(statsb)\n",
    "print(statsh)\n",
    "\n",
    "48\n",
    "48\n",
    "(0.828125, 875, 719, 56)\n",
    "(0.5, 626, 508, 297)\n",
    "```"
   ]
  },
  {
   "cell_type": "code",
   "execution_count": null,
   "metadata": {},
   "outputs": [],
   "source": [
    "# Here's one last example where I do experiments on 50x50 grids \n",
    "# with an exploration path of about 200.  I generate 1000 such problems and solutions, and compare\n",
    "# number of nodes expanded by bfs versus heuristic"
   ]
  },
  {
   "cell_type": "markdown",
   "metadata": {},
   "source": [
    "from statistics import stdev\n",
    "from statistics import mean\n",
    "from searchClientInterface import BFSEvaluator\n",
    "\n",
    "diffs = []\n",
    "for _ in range(1,100):\n",
    "    clear, initial = problem_generator(50, 200 + randint(-10, 10))\n",
    "    problem = VacuumProblem(clear, initial)\n",
    "    solnb, statsb = aStarSearch(problem, BFSEvaluator())\n",
    "    solnh, statsh = aStarSearch(problem, heuristicEvaluator())\n",
    "    diffs.append(statsb[1] - statsh[1])\n",
    "\n",
    "print(mean(diffs))\n",
    "print(stdev(diffs))"
   ]
  },
  {
   "cell_type": "markdown",
   "metadata": {},
   "source": [
    "355.1111111111111\n",
    "158.09031833997446"
   ]
  },
  {
   "cell_type": "markdown",
   "metadata": {},
   "source": [
    "#### Analysis\n",
    "\n",
    "Here you will analyze your heuristic performance versus breadth-first search.\n",
    "You want to answer these two questions:\n",
    "1.  In terms of nodes expanded, does your heuristic significantly outperform BFS\n",
    "2.  In terms of time elapsed, does your heuristic significantly outperform BFS\n",
    "3.  In terms of time per node, does your heuristic significantly outperform BFS\n",
    "\n",
    "Keep in mind the second two questions are interesting:  even if your heuristic does guide the search effectively toward a solution, if it takes too long to estimate a node's \"quality,\"  it still might not be worth using.  \n",
    "\n",
    "---\n"
   ]
  },
  {
   "cell_type": "markdown",
   "metadata": {},
   "source": [
    "<p style=\"color:red\"> Your analysis in this cell and add cells below if you want </p>"
   ]
  },
  {
   "cell_type": "code",
   "execution_count": null,
   "metadata": {},
   "outputs": [],
   "source": []
  }
 ],
 "metadata": {
  "kernelspec": {
   "display_name": "Python 3",
   "language": "python",
   "name": "python3"
  },
  "language_info": {
   "codemirror_mode": {
    "name": "ipython",
    "version": 3
   },
   "file_extension": ".py",
   "mimetype": "text/x-python",
   "name": "python",
   "nbconvert_exporter": "python",
   "pygments_lexer": "ipython3",
   "version": "3.7.0"
  }
 },
 "nbformat": 4,
 "nbformat_minor": 2
}
