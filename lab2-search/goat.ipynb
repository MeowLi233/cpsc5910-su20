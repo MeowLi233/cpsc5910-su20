{
 "cells": [
  {
   "cell_type": "markdown",
   "metadata": {},
   "source": [
    "![Goat problem](goat.GIF)"
   ]
  },
  {
   "cell_type": "markdown",
   "metadata": {},
   "source": [
    "<pre>\n",
    "print(aStarSearch(GoatProblem(), heuristicEvaluator()))\n",
    "\n",
    "([('load', 'goat'), 'moveboat', ('unload', 'goat'), 'moveboat', ('load', 'cabbage'), 'moveboat', ('unload', 'cabbage'), ('load', 'goat'), 'moveboat', ('unload', 'goat'), ('load', 'wolf'), 'moveboat', ('unload', 'wolf'), 'moveboat', ('load', 'goat'), 'moveboat', ('unload', 'goat')], (0.0, 60, 29, 10))\n",
    "\n",
    "</pre>"
   ]
  },
  {
   "cell_type": "code",
   "execution_count": null,
   "metadata": {},
   "outputs": [],
   "source": []
  }
 ],
 "metadata": {
  "kernelspec": {
   "display_name": "Python 3",
   "language": "python",
   "name": "python3"
  },
  "language_info": {
   "codemirror_mode": {
    "name": "ipython",
    "version": 3
   },
   "file_extension": ".py",
   "mimetype": "text/x-python",
   "name": "python",
   "nbconvert_exporter": "python",
   "pygments_lexer": "ipython3",
   "version": "3.7.0"
  }
 },
 "nbformat": 4,
 "nbformat_minor": 2
}
