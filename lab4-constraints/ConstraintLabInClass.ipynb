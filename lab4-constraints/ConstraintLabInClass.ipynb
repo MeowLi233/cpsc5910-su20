{
 "cells": [
  {
   "cell_type": "markdown",
   "metadata": {},
   "source": [
    "#### Map Coloring\n",
    "\n",
    "Below is a coding of the Australia map coloring problem from slide 5 of the lecture notes.\n",
    "Write a function that colors the map for a set of colors specified by an input argument"
   ]
  },
  {
   "cell_type": "code",
   "execution_count": null,
   "metadata": {},
   "outputs": [],
   "source": [
    "def color_map_with(colors):\n",
    "    states = [\"WA\", \"NT\", \"SA\", \"QLD\", \"NSW\", \"VIC\"]\n",
    "    adjacencies = [(\"WA\", \"NT\"), (\"WA\", \"SA\"), (\"NT\", \"SA\"),\\\n",
    "                   (\"NT\", \"QLD\"), (\"QLD\", \"SA\"), (\"QLD\", \"NSW\"),\\\n",
    "                   (\"SA\", \"NSW\"), (\"SA\", \"VIC\"), (\"NSW\", \"VIC\")]\n",
    "    # Your code here\n",
    "    return # A list with all possible colorings"
   ]
  },
  {
   "cell_type": "code",
   "execution_count": null,
   "metadata": {},
   "outputs": [],
   "source": [
    "# Sample code -- gives a \n",
    "colors = [\"B\", \"G\", \"R\", \"Y\"]\n",
    "coloring = color_map_with(colors)\n",
    "print(coloring[0] if len(coloring) > 0 else \"No possible colorings\")"
   ]
  },
  {
   "cell_type": "code",
   "execution_count": null,
   "metadata": {},
   "outputs": [],
   "source": [
    "#  Use the function above to determine how many possible colorings exist\n",
    "#  for (a) three possible colors, (b) four possible colors, (c) five possible colors\n",
    "\n",
    "#   Your code here"
   ]
  },
  {
   "attachments": {},
   "cell_type": "markdown",
   "metadata": {},
   "source": [
    "#### Course to Professor Assignment\n",
    "\n",
    "The classes are\n",
    "\n",
    "  * Class 1 - Intro to Programming: \t    meets from 8:00-9:00am \n",
    "  * Class 2 - Intro to Artificial Intelligence: \tmeets from 8:30-9:30am\n",
    "  * Class 3 - Natural Language Processing: \tmeets from 9:00-10:00am\n",
    "  * Class 4 - Computer Vision: \t\tmeets from 9:00-10:00am \n",
    "  * Class 5 - Machine Learning: \t\tmeets from 9:30-10:30am \n",
    "  \n",
    "The professors are\n",
    "\n",
    "  * Professor A, who is qualified to teach \tClasses 3 and 4\n",
    "  * Professor B, who is qualified to teach \tClasses 2, 3, 4, and 5\n",
    "  * Professor C, who is qualified to teach \tClasses 1, 2, 3, 4, 5\n",
    "\n",
    "Use the constraints library to generate an assignment of professors to courses"
   ]
  },
  {
   "cell_type": "code",
   "execution_count": null,
   "metadata": {},
   "outputs": [],
   "source": [
    "## Your code here"
   ]
  },
  {
   "cell_type": "markdown",
   "metadata": {},
   "source": [
    "#### Simple Job-Shop Scheduling\n",
    "\n",
    "* Job 1 has two tasks:  polishing and drilling\n",
    "* Job 2 has two tasks: painting and drilling\n",
    "* Painting has to be done before drilling\n",
    "* Polishing and drilling can be done in either order\n",
    "* You cannot do two operations of the same job at the same time\n",
    "* Painting requires the painting machine and an attendant\n",
    "* Polishing requires the polishing machine and an attendant\n",
    "* There is only one attendant\n",
    "* If the shop starts at time 0 and each task takes 1 time unit, what is the earliest time both jobs can be completed, and what times should they occur at?"
   ]
  },
  {
   "cell_type": "code",
   "execution_count": null,
   "metadata": {},
   "outputs": [],
   "source": []
  }
 ],
 "metadata": {
  "kernelspec": {
   "display_name": "Python 3",
   "language": "python",
   "name": "python3"
  },
  "language_info": {
   "codemirror_mode": {
    "name": "ipython",
    "version": 3
   },
   "file_extension": ".py",
   "mimetype": "text/x-python",
   "name": "python",
   "nbconvert_exporter": "python",
   "pygments_lexer": "ipython3",
   "version": "3.7.0"
  }
 },
 "nbformat": 4,
 "nbformat_minor": 2
}
