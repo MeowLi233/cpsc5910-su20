{
 "cells": [
  {
   "cell_type": "markdown",
   "metadata": {},
   "source": [
    "#### Map Coloring\n",
    "\n",
    "Below is a coding of the Australia map coloring problem from slide 5 of the lecture notes.\n",
    "Write a function that colors the map for a set of colors specified by an input argument"
   ]
  },
  {
   "cell_type": "code",
   "execution_count": 2,
   "metadata": {},
   "outputs": [],
   "source": [
    "from constraint import *"
   ]
  },
  {
   "cell_type": "code",
   "execution_count": 4,
   "metadata": {},
   "outputs": [],
   "source": [
    "def color_map_with(colors):\n",
    "    states = [\"WA\", \"NT\", \"SA\", \"QLD\", \"NSW\", \"VIC\"]\n",
    "    adjacencies = [(\"WA\", \"NT\"), (\"WA\", \"SA\"), (\"NT\", \"SA\"),\\\n",
    "                   (\"NT\", \"QLD\"), (\"QLD\", \"SA\"), (\"QLD\", \"NSW\"),\\\n",
    "                   (\"SA\", \"NSW\"), (\"SA\", \"VIC\"), (\"NSW\", \"VIC\")]\n",
    "    problem = Problem()\n",
    "    problem.addVariables(states, colors)\n",
    "    for adj in adjacencies:\n",
    "        problem.addConstraint(lambda a, b: a != b, adj)\n",
    "    return problem.getSolutions()"
   ]
  },
  {
   "cell_type": "code",
   "execution_count": 14,
   "metadata": {},
   "outputs": [
    {
     "name": "stdout",
     "output_type": "stream",
     "text": [
      "192\n",
      "{'SA': 'Y', 'NSW': 'G', 'QLD': 'R', 'NT': 'G', 'VIC': 'R', 'WA': 'R'}\n",
      "1 0\n",
      "2 0\n",
      "3 6\n",
      "4 192\n"
     ]
    }
   ],
   "source": [
    "colors = [\"B\", \"R\", \"G\", \"Y\"]\n",
    "coloring = color_map_with(colors)\n",
    "print(len(coloring))\n",
    "print(coloring[0] if len(coloring) > 0 else \"No possible colorings\")\n",
    "\n"
   ]
  },
  {
   "cell_type": "code",
   "execution_count": null,
   "metadata": {},
   "outputs": [],
   "source": [
    "#  Use the function above to determine how many possible colorings exist\n",
    "#  for (a) three possible colors, (b) four possible colors, (c) five possible colors\n",
    "\n",
    "for i in range(1, 5):\n",
    "    print(f\"{i} {len(color_map_with(colors[0:i]))}\")"
   ]
  },
  {
   "cell_type": "markdown",
   "metadata": {},
   "source": [
    "#### Course to Professor Assignment\n",
    "\n",
    "The classes are\n",
    "\n",
    "  * Class 1 - Intro to Programming: \t    meets from 8:00-9:00am \n",
    "  * Class 2 - Intro to Artificial Intelligence: \tmeets from 8:30-9:30am\n",
    "  * Class 3 - Natural Language Processing: \tmeets from 9:00-10:00am\n",
    "  * Class 4 - Computer Vision: \t\tmeets from 9:00-10:00am \n",
    "  * Class 5 - Machine Learning: \t\tmeets from 9:30-10:30am \n",
    "  \n",
    "The professors are\n",
    "\n",
    "  * Professor A, who is qualified to teach \tClasses 3 and 4\n",
    "  * Professor B, who is qualified to teach \tClasses 2, 3, 4, and 5\n",
    "  * Professor C, who is qualified to teach \tClasses 1, 2, 3, 4, 5\n",
    "\n",
    "Use the constraints library to generate an assignment of professors to courses"
   ]
  },
  {
   "cell_type": "code",
   "execution_count": 22,
   "metadata": {},
   "outputs": [
    {
     "data": {
      "text/plain": [
       "['a']"
      ]
     },
     "execution_count": 22,
     "metadata": {},
     "output_type": "execute_result"
    }
   ],
   "source": [
    "list({\"a\":1}.keys())"
   ]
  },
  {
   "cell_type": "code",
   "execution_count": 28,
   "metadata": {},
   "outputs": [
    {
     "data": {
      "text/plain": [
       "[{2: 'b', 3: 'c', 4: 'a', 5: 'b', 1: 'c'},\n",
       " {2: 'b', 3: 'a', 4: 'c', 5: 'b', 1: 'c'}]"
      ]
     },
     "execution_count": 28,
     "metadata": {},
     "output_type": "execute_result"
    }
   ],
   "source": [
    "## Variables are classes -- 1 to 5, assignment is professor a - c\n",
    "prof = {\"a\": [3,4], \"b\": [2,3,4,5], \"c\": [1,2,3,4,5]}\n",
    "conflict = [(1,2), (2,3), (2,4), (3,4), (3,5), (4,5)]\n",
    "\n",
    "def profs_for(c):\n",
    "    profs = []\n",
    "    for p in list(prof.keys()):\n",
    "        if c in prof[p]:\n",
    "            profs.append(p)\n",
    "    return profs\n",
    "    \n",
    "problem = Problem()\n",
    "for i in [1,2,3,4,5]:\n",
    "    problem.addVariable(i, profs_for(i))\n",
    "for c in  conflict:\n",
    "    problem.addConstraint(lambda a, b: a != b, c)\n",
    "problem.getSolutions()"
   ]
  },
  {
   "cell_type": "markdown",
   "metadata": {},
   "source": [
    "#### Simple Job-Shop Scheduling\n",
    "\n",
    "* Job 1 has two tasks:  polishing and drilling\n",
    "* Job 2 has two tasks: painting and drilling\n",
    "* Painting has to be done before drilling for any given part\n",
    "* Polishing and drilling can be done in either order\n",
    "* You cannot do two operations of the same job at the same time\n",
    "* Painting requires the painting machine and an attendant\n",
    "* Polishing requires the polishing machine and an attendant\n",
    "* There is only one attendant\n",
    "* If the shop starts at time 0 and each task takes 1 time unit, what is the earliest time both jobs can be completed, and what times should they occur at?"
   ]
  },
  {
   "cell_type": "code",
   "execution_count": 37,
   "metadata": {},
   "outputs": [
    {
     "name": "stdout",
     "output_type": "stream",
     "text": [
      "9\n"
     ]
    }
   ],
   "source": [
    "#  Assignment of time to tasks   polishing1, drilling1, painting2, drilling2\n",
    "\n",
    "problem = Problem()\n",
    "times = [0,1,2]\n",
    "problem.addVariables([\"polishing1\", \"drilling1\", \"painting2\", \"drilling2\"], times)\n",
    "problem.addConstraint(lambda a, b: a < b, [\"painting2\", \"drilling2\"])\n",
    "problem.addConstraint(lambda a, b: a != b, [\"polishing1\", \"drilling1\"])\n",
    "problem.addConstraint(lambda a, b: a != b, [\"painting2\", \"drilling2\"])\n",
    "for p in [(\"painting2\", \"polishing1\"), (\"drilling1\", \"drilling2\")]:\n",
    "    problem.addConstraint(lambda a, b: a != b, p)\n",
    "\n",
    "sched = problem.getSolutions()\n",
    "print(len(sched))"
   ]
  },
  {
   "cell_type": "code",
   "execution_count": 38,
   "metadata": {},
   "outputs": [
    {
     "name": "stdout",
     "output_type": "stream",
     "text": [
      "{'drilling2': 2, 'painting2': 1, 'drilling1': 1, 'polishing1': 2}\n"
     ]
    }
   ],
   "source": [
    "print(sched[0])"
   ]
  },
  {
   "cell_type": "code",
   "execution_count": null,
   "metadata": {},
   "outputs": [],
   "source": []
  }
 ],
 "metadata": {
  "kernelspec": {
   "display_name": "Python 3",
   "language": "python",
   "name": "python3"
  },
  "language_info": {
   "codemirror_mode": {
    "name": "ipython",
    "version": 3
   },
   "file_extension": ".py",
   "mimetype": "text/x-python",
   "name": "python",
   "nbconvert_exporter": "python",
   "pygments_lexer": "ipython3",
   "version": "3.7.0"
  }
 },
 "nbformat": 4,
 "nbformat_minor": 2
}
