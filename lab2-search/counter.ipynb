{
 "cells": [
  {
   "cell_type": "markdown",
   "metadata": {},
   "source": [
    "**Counter**\n",
    "\n",
    "You can add increment or decrement the counter, but you can't decrement past 0.\n",
    "Inputs are an initial value and a goal final value.\n"
   ]
  },
  {
   "cell_type": "code",
   "execution_count": null,
   "metadata": {},
   "outputs": [],
   "source": [
    "from searchClientInterface import WorldState\n",
    "import copy\n",
    "\n",
    "class CounterWorldState(WorldState):\n",
    "\n",
    "    # Internal state is just the 'value' attribute\n",
    "    def __init__(self, initial):\n",
    "        self._value = initial\n",
    "    \n",
    "    # Convenience function to make these objects print nicely\n",
    "    def __str__(self):\n",
    "        return \"{\" + str(self._value) + \"}\"\n",
    "    \n",
    "    #  These two methods are REQUIRED to make cycle checking work\n",
    "    #  Notice they depend on the object's internal state, so they must\n",
    "    #  be customized to each new kind of WorldState\n",
    "    \n",
    "    def __eq__(self, other):\n",
    "        if isinstance(other, CounterWorldState):\n",
    "            return self._value == other._value\n",
    "        else:\n",
    "            return False\n",
    "\n",
    "    def __hash__(self):\n",
    "        return hash(str(self._value))\n",
    "    \n",
    "    # NB: every successor state must deep copy the old state!\n",
    "    \n",
    "    def successors(self):\n",
    "        candidates = [self.increment(), self.decrement()]\n",
    "        return [c for c in candidates if c] \n",
    "    \n",
    "    # One next state generator for each possible action, \n",
    "    # but the method can return None if it's infeasible in the state\n",
    "    \n",
    "    def decrement(self):\n",
    "        if self._value > 0:\n",
    "            s = copy.deepcopy(self)\n",
    "            s._value = s._value - 1\n",
    "            return((s, \"decrement\"))\n",
    "        else:\n",
    "            return None\n",
    "                   \n",
    "    def increment(self):\n",
    "        s = copy.deepcopy(self)\n",
    "        s._value = s._value + 1\n",
    "        return((s, \"increment\"))\n",
    "    "
   ]
  },
  {
   "cell_type": "code",
   "execution_count": null,
   "metadata": {},
   "outputs": [],
   "source": [
    "from searchClientInterface import Problem\n",
    "\n",
    "class CounterProblem(Problem):\n",
    "    def __init__(self, initial_value, goal_value):\n",
    "        self._state = CounterWorldState(initial_value)\n",
    "        self._goal_value = goal_value\n",
    "        \n",
    "    def initial(self):\n",
    "        return self._state\n",
    "    \n",
    "    def isGoal(self, state):\n",
    "        return state._value == self._goal_value"
   ]
  },
  {
   "cell_type": "code",
   "execution_count": null,
   "metadata": {},
   "outputs": [],
   "source": [
    "# This is an evaluator for breadth-first search.  The shortest plan\n",
    "# will always have the lowest priority (best)\n",
    "\n",
    "from searchClientInterface import Evaluator\n",
    "def bfsEstimator(state):\n",
    "    return 0\n",
    "\n",
    "def bfsCoster(actions):\n",
    "    return len(actions)\n",
    "\n",
    "def bfsEvaluator():\n",
    "    return Evaluator(bfsCoster, bfsEstimator)"
   ]
  },
  {
   "cell_type": "code",
   "execution_count": null,
   "metadata": {},
   "outputs": [],
   "source": [
    "# This is an evaluator for depth-first search.  The longest plan will \n",
    "# always have the lowest priority (best)\n",
    "from searchClientInterface import Evaluator\n",
    "\n",
    "def dfsEstimator(state):\n",
    "    return 0\n",
    "\n",
    "def dfsCoster(actions):\n",
    "    return -len(actions)\n",
    "\n",
    "def dfsEvaluator():\n",
    "    return Evaluator(dfsCoster, dfsEstimator)"
   ]
  },
  {
   "cell_type": "code",
   "execution_count": null,
   "metadata": {},
   "outputs": [],
   "source": [
    "problem1 = CounterProblem(3, 6)"
   ]
  },
  {
   "cell_type": "code",
   "execution_count": null,
   "metadata": {},
   "outputs": [],
   "source": [
    "from searchFramework import aStarSearch\n",
    "print(aStarSearch(problem1, bfsEvaluator()))"
   ]
  },
  {
   "cell_type": "code",
   "execution_count": null,
   "metadata": {},
   "outputs": [],
   "source": [
    "print(aStarSearch(CounterProblem(7, 2), dfsEvaluator(), 250, 1000))"
   ]
  },
  {
   "cell_type": "code",
   "execution_count": null,
   "metadata": {},
   "outputs": [],
   "source": [
    "initial = 7\n",
    "goal = 2\n",
    "problem2 = CounterProblem(initial,goal)\n",
    "evaluator = Evaluator(lambda actions: 0, lambda cws: abs(cws._value - 7))\n",
    "(solution, stats) = aStarSearch(problem2, evaluator, 250, 1000)\n",
    "print(solution)\n",
    "print(stats)"
   ]
  },
  {
   "cell_type": "code",
   "execution_count": null,
   "metadata": {},
   "outputs": [],
   "source": []
  }
 ],
 "metadata": {
  "kernelspec": {
   "display_name": "Python 3",
   "language": "python",
   "name": "python3"
  },
  "language_info": {
   "codemirror_mode": {
    "name": "ipython",
    "version": 3
   },
   "file_extension": ".py",
   "mimetype": "text/x-python",
   "name": "python",
   "nbconvert_exporter": "python",
   "pygments_lexer": "ipython3",
   "version": "3.7.0"
  }
 },
 "nbformat": 4,
 "nbformat_minor": 2
}
